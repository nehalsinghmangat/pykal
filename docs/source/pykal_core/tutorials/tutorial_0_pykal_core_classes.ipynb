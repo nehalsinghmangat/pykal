{
 "cells": [
  {
   "cell_type": "markdown",
   "id": "356fc77a",
   "metadata": {},
   "source": [
    "# Tutorial 0: The Core of pykal"
   ]
  },
  {
   "cell_type": "markdown",
   "id": "89e4cd6e",
   "metadata": {},
   "source": [
    "## Overview"
   ]
  },
  {
   "cell_type": "markdown",
   "id": "e3a059b3",
   "metadata": {},
   "source": [
    "This tutorial will walk you through the genesis and structure of the pykal_core library. Upon finishing this tutorial, you will be able to model systems using the pykal_core library, as shown in tutorial 1. [link] You should also be able to move onto modeling a turtlebot, as shown in tutorial 1 [link].\n",
    "\n",
    "This is the only tutorial in which the pronoun \"I\" is used instead of the more acedemic \"we\", as I found it strange to hide behind plurality when discussing design decisions whose benefits and shortcomings are ultimately my fault."
   ]
  },
  {
   "cell_type": "markdown",
   "id": "f5f80232",
   "metadata": {},
   "source": [
    "## The Feedback System"
   ]
  },
  {
   "cell_type": "markdown",
   "id": "4e4b67c0",
   "metadata": {},
   "source": [
    "A basic feedback system[link] is shown below. "
   ]
  },
  {
   "cell_type": "markdown",
   "id": "d7ab6e97",
   "metadata": {},
   "source": [
    "   <div style=\"display: flex; align-items: center; justify-content: space-between; gap: 2em; margin-top: 1em; margin-bottom: 1em;\">\n",
    "     <img src=\"../../_static/system_input_observer_controller_block_diagram.svg\" alt=\"System Observer Controller Block Diagram\" style=\"width: 100%;\">\n",
    "   </div>"
   ]
  },
  {
   "cell_type": "markdown",
   "id": "2dab0399",
   "metadata": {},
   "source": [
    "There are five distinct objects in this block diagram:\n",
    "\n",
    "- Signal generator\n",
    "- t (Signal transform)\n",
    "- Dynamical System (or Plant)\n",
    "- Controller\n",
    "- Observer (or Estimator)\n",
    "\n",
    "As a concrete example, consider the cruise control in your car. Recall that the goal of cruise control is to maintain a speed set by the driver. \n",
    "\n",
    "- the setpoint signal is generated when you set the speed using a button ( or if you're fancy, a touchscreen display)\n",
    "- the difference between this setpoint and the current estimated speed is computed and sent to the controller\n",
    "- the dynamical system is the car itself, where $y$ is the speedometer readings\n",
    "- the controller looks at this difference and sends an appropriate signal to the car to either speed up or slow down (the controller abstracts away such things as gas pedal and brake pedal depression)\n",
    "- the observer takes the controller signal and the speedometer's current readings and estimates what the current speed of the car is\n",
    "\n"
   ]
  },
  {
   "cell_type": "markdown",
   "id": "c9dbe817",
   "metadata": {},
   "source": [
    "### The Feedback System as Classes "
   ]
  },
  {
   "cell_type": "markdown",
   "id": "d77a4e28",
   "metadata": {},
   "source": [
    "The control system objects are modeled by the following classes:\n",
    "\n",
    "- Signal Generator (`Signal`)\n",
    "- Signal Transformer (`Signal`)  \n",
    "- Plant (`System`)\n",
    "- Controller (`Controller`)\n",
    "- Observer (`Observer`)\n",
    "\n",
    "  \n",
    "Note that in the feedback diagram above, the signal generator and signal transformer do not depend explicitly on the control system objects; rather, they just define or modify the signals passed from one block to another. To reflect this programmatically, the `Signal` class has no dependencies on the other classes. \n",
    "\n",
    "However, it doesn't make sense to have an observer or a controller without an underlying system. To reflect this, the `System` class is injected as a dependency into the `Observer` and `Controller` classes. \n",
    "\n",
    "Below, we get a feel for constructing these objects; a thorough discussion on each class and its usage will be provided in the upcoming section."
   ]
  },
  {
   "cell_type": "code",
   "execution_count": 13,
   "id": "6e55b6e8",
   "metadata": {},
   "outputs": [
    {
     "name": "stdout",
     "output_type": "stream",
     "text": [
      "<pykal_core.control_system.System object at 0x717f591ee030>\n",
      "<pykal_core.control_system.System object at 0x717f591ee030>\n"
     ]
    }
   ],
   "source": [
    "import pykal_core\n",
    "from pykal_core.control_system import Signal, Controller, System, Observer\n",
    "\n",
    "sig = Signal() # Signal constructor requires no arguments\n",
    "\n",
    "sys = System(state_names=[\"x0\",\"x1\"]) # state names are the only required argument for the System constructor\n",
    "\n",
    "obs = Observer(sys) # a System object must be passed into the Observer and Controller constructors \n",
    "cont = Controller(sys)\n",
    "\n",
    "print(obs.sys) # the Observer and Controller objects reference the same System object\n",
    "print(cont.sys)"
   ]
  },
  {
   "cell_type": "markdown",
   "id": "709c6a32",
   "metadata": {},
   "source": [
    "In the following sections, we will discuss the aforementioned classes in the `control_system` module. For each class, the control theoretic conceptual primitive will be introduced and the mapping into each class will be explained. Basic attributes and usage of each class will also be explained, with links provided for further reading when appropriate. "
   ]
  },
  {
   "cell_type": "markdown",
   "id": "6af113bc",
   "metadata": {},
   "source": [
    "## Control System"
   ]
  },
  {
   "cell_type": "markdown",
   "id": "eff96ff9",
   "metadata": {},
   "source": [
    "### Signal"
   ]
  },
  {
   "cell_type": "markdown",
   "id": "b7ca041a",
   "metadata": {},
   "source": [
    "#### Attributes"
   ]
  },
  {
   "cell_type": "markdown",
   "id": "ba36963e",
   "metadata": {},
   "source": [
    "`sig.generate` generates signal functions based on certain params."
   ]
  },
  {
   "cell_type": "markdown",
   "id": "4471223b",
   "metadata": {},
   "source": [
    "   <div style=\"display: flex; align-items: center; justify-content: space-between; gap: 2em; margin-top: 1em; margin-bottom: 1em;\">\n",
    "     <img src=\"../../_static/signal_generator_block.svg\" alt=\"System Observer Controller Block Diagram\" style=\"width: 30%;\">\n",
    "     <img src=\"../../_static/signals_heaviside_and_sin.svg\" style=\"width: 70%;\">     \n",
    "   </div>"
   ]
  },
  {
   "cell_type": "code",
   "execution_count": 14,
   "id": "2a563b35",
   "metadata": {},
   "outputs": [],
   "source": [
    "from pykal_core.control_system import Signal\n",
    "\n",
    "sig = Signal() # Signal constructor requires no arguments\n",
    "\n",
    "unit_step_func = sig.generate.heaviside_step_function(output=[1],step_time=5) # generate signal functions with params\n",
    "sin_wave_func = sig.generate.sinusoidal_function(amplitudes=[1],frequencies=[0.1])\n",
    "\n",
    "from pykal_core.utils.general import Simulation\n",
    "\n",
    "unit_step_df = Simulation.of_signals(signal_generator=unit_step_func,\n",
    "                      t_span = (0,10),\n",
    "                      dt = 0.1,\n",
    "                      output_df=True                      \n",
    "                      )\n",
    "\n",
    "sin_wave_df = Simulation.of_signals(signal_generator=sin_wave_func,\n",
    "                      t_span = (0,10),\n",
    "                      dt = 0.1,\n",
    "                      output_df=True\n",
    "                      )\n",
    "\n",
    "from matplotlib import pyplot as plt \n",
    "\n",
    "fig, axes = plt.subplots(1, 2, figsize=(10, 4),sharey=True)\n",
    "\n",
    "# Unit step\n",
    "axes[0].plot(unit_step_df.index, unit_step_df.iloc[:, 0],color=\"blue\")\n",
    "axes[0].set_title(\"Heaviside Step\")\n",
    "axes[0].set_xlabel(\"Time (s)\")\n",
    "axes[0].set_ylabel(\"Signal Value\")\n",
    "\n",
    "# Sine wave\n",
    "axes[1].plot(sin_wave_df.index, sin_wave_df.iloc[:, 0],color=\"orange\")\n",
    "axes[1].set_title(\"Sinusoidal Signal\")\n",
    "axes[1].set_xlabel(\"Time (s)\")\n",
    "\n",
    "plt.tight_layout()\n",
    "\n",
    "plt.savefig(\"../../_static/signals_heaviside_and_sin.svg\", format=\"svg\",transparent=True) # save as SVG\n",
    "\n",
    "#plt.show()\n",
    "plt.close(fig)"
   ]
  },
  {
   "cell_type": "markdown",
   "id": "b53dacbe",
   "metadata": {},
   "source": [
    "`sig.transform` has unary transformations (denoted in a block diagram by a triangle) that can perform things such as scaling or inverting signals (or the user can define their own transformation, as seen here)"
   ]
  },
  {
   "cell_type": "markdown",
   "id": "d4ff1ae7",
   "metadata": {},
   "source": [
    "   <div style=\"display: flex; align-items: center; justify-content: space-between; gap: 2em; margin-top: 1em; margin-bottom: 1em;\">\n",
    "     <img src=\"../../_static/signal_transform_block_unary.svg\" alt=\"System Observer Controller Block Diagram\" style=\"width: 20%;\">\n",
    "      <img src=\"../../_static/signals_inverted_heaviside.svg\" style=\"width: 80%;\">     \n",
    "   </div>"
   ]
  },
  {
   "cell_type": "code",
   "execution_count": 15,
   "id": "7c0abe52",
   "metadata": {},
   "outputs": [],
   "source": [
    "from pykal_core.control_system import Signal\n",
    "\n",
    "sig = Signal() # Signal constructor requires no arguments\n",
    "\n",
    "unit_step_func = sig.generate.heaviside_step_function(output=[1],step_time=5) # generate signal functions with params\n",
    "\n",
    "inverted_unit_step_func = sig.transform.signals(sig.transform.negate,unit_step_func)\n",
    "\n",
    "from pykal_core.utils.general import Simulation\n",
    "\n",
    "unit_step_df = Simulation.of_signals(signal_generator=unit_step_func,\n",
    "                      t_span = (0,10),\n",
    "                      dt = 0.1,\n",
    "                      output_df=True                      \n",
    "                      )\n",
    "\n",
    "inverted_unit_step_df = Simulation.of_signals(signal_generator=inverted_unit_step_func,\n",
    "                      t_span = (0,10),\n",
    "                      dt = 0.1,\n",
    "                      output_df=True\n",
    "                      )\n",
    "\n",
    "from matplotlib import pyplot as plt \n",
    "\n",
    "fig, axes = plt.subplots(1, 2, figsize=(10, 4),sharey=True)\n",
    "\n",
    "# Unit step\n",
    "axes[0].plot(unit_step_df.index, unit_step_df.iloc[:, 0],color=\"blue\")\n",
    "axes[0].set_title(\"Heaviside Step\")\n",
    "axes[0].set_xlabel(\"Time (s)\")\n",
    "axes[0].set_ylabel(\"Signal Value\")\n",
    "\n",
    "# Sine wave\n",
    "axes[1].plot(inverted_unit_step_df.index, inverted_unit_step_df.iloc[:, 0],color=\"blue\")\n",
    "axes[1].set_title(\"Inverted Heaviside Signal\")\n",
    "axes[1].set_xlabel(\"Time (s)\")\n",
    "\n",
    "plt.tight_layout()\n",
    "\n",
    "plt.savefig(\"../../_static/signals_inverted_heaviside.svg\", format=\"svg\",transparent=True) # save as SVG\n",
    "\n",
    "#plt.show()\n",
    "plt.close(fig)"
   ]
  },
  {
   "cell_type": "markdown",
   "id": "e7094635",
   "metadata": {},
   "source": [
    "`sig.transform` has n-nary transformations (denoted in a block diagram by a circle) that can perform transformations on n-many signals such as taking the product, taking the difference, or a user defined transformation (as seen here)"
   ]
  },
  {
   "cell_type": "markdown",
   "id": "128d2e6d",
   "metadata": {},
   "source": [
    "   <div style=\"display: flex; align-items: center; justify-content: space-between; gap: 2em; margin-top: 1em; margin-bottom: 1em;\">\n",
    "     <img src=\"../../_static/signal_transform_block_nnary.svg\" alt=\"System Observer Controller Block Diagram\" style=\"width: 20%;\">\n",
    "     <img src=\"../../_static/signals_heaviside_and_sin_product.svg\" alt=\"System Observer Controller Block Diagram\" style=\"width: 80%;\">\n",
    "   </div>"
   ]
  },
  {
   "cell_type": "markdown",
   "id": "a01bcdf9",
   "metadata": {},
   "source": [
    "Include figure for unary vs binary transforms with examples (signal inversion vs joining signals). Also include figure for G, and then triangle for unary and circle for n-ary"
   ]
  },
  {
   "cell_type": "code",
   "execution_count": 16,
   "id": "2bef0ab7",
   "metadata": {},
   "outputs": [],
   "source": [
    "from pykal_core.control_system import Signal\n",
    "\n",
    "sig = Signal() # Signal constructor requires no arguments\n",
    "\n",
    "unit_step_func = sig.generate.heaviside_step_function(output=[1],step_time=5) # generate signal functions with params\n",
    "sin_wave_func = sig.generate.sinusoidal_function(amplitudes=[1],frequencies=[0.1])\n",
    "\n",
    "# create a new signal function by applying a transform to two signal functions\n",
    "sin_wave_func_times_unit_step_func = sig.transform.signals(sig.transform.multiply,sin_wave_func,unit_step_func)\n",
    "\n",
    "\n",
    "from pykal_core.utils.general import Simulation\n",
    "\n",
    "unit_step_df = Simulation.of_signals(signal_generator=unit_step_func,\n",
    "                      t_span = (0,10),\n",
    "                      dt = 0.1,\n",
    "                      output_df=True                      \n",
    "                      )\n",
    "\n",
    "sin_wave_df = Simulation.of_signals(signal_generator=sin_wave_func,\n",
    "                      t_span = (0,10),\n",
    "                      dt = 0.1,\n",
    "                      output_df=True\n",
    "                      )\n",
    "\n",
    "sin_wave_times_unit_step_df = Simulation.of_signals(signal_generator=sin_wave_func_times_unit_step_func,\n",
    "                      t_span = (0,10),\n",
    "                      dt = 0.1,\n",
    "                      output_df=True\n",
    "                      )\n",
    "\n",
    "from matplotlib import pyplot as plt \n",
    "\n",
    "fig, axes = plt.subplots(1, 3, figsize=(10, 4),sharey=True)\n",
    "\n",
    "# Unit step\n",
    "axes[0].plot(unit_step_df.index, unit_step_df.iloc[:, 0],color=\"blue\")\n",
    "axes[0].set_title(\"Heaviside Step\")\n",
    "axes[0].set_xlabel(\"Time (s)\")\n",
    "axes[0].set_ylabel(\"Signal Value\")\n",
    "\n",
    "# Sine wave\n",
    "axes[1].plot(sin_wave_df.index, sin_wave_df.iloc[:, 0],color=\"orange\")\n",
    "axes[1].set_title(\"Sinusoidal Signal\")\n",
    "axes[1].set_xlabel(\"Time (s)\")\n",
    "\n",
    "# sin_wave_times_unit_step_df wave\n",
    "axes[2].plot(sin_wave_times_unit_step_df.index, sin_wave_times_unit_step_df.iloc[:, 0],color=\"green\")\n",
    "axes[2].set_title(\"Product\")\n",
    "axes[2].set_xlabel(\"Time (s)\")\n",
    "\n",
    "plt.tight_layout()\n",
    "\n",
    "plt.savefig(\"../../_static/signals_heaviside_and_sin_product.svg\", format=\"svg\",transparent=True) # save as SVG\n",
    "\n",
    "#plt.show()\n",
    "plt.close(fig)\n"
   ]
  },
  {
   "cell_type": "markdown",
   "id": "81c91a87",
   "metadata": {},
   "source": [
    "#### Usage"
   ]
  },
  {
   "cell_type": "markdown",
   "id": "17a8e904",
   "metadata": {},
   "source": [
    "### System"
   ]
  },
  {
   "cell_type": "markdown",
   "id": "05a77a92",
   "metadata": {},
   "source": [
    "   <div style=\"display: flex; align-items: center; justify-content: space-between; gap: 2em; margin-top: 1em; margin-bottom: 1em;\">\n",
    "     <img src=\"../../_static/system_block_diagram.svg\" alt=\"System Observer Controller Block Diagram\" style=\"width: 100%;\">\n",
    "   </div>"
   ]
  },
  {
   "cell_type": "markdown",
   "id": "c5b79970",
   "metadata": {},
   "source": [
    "Recall that the state-space model of a continuous-time dynamical system is given by:\n",
    "\n",
    "$$\n",
    "\\begin{aligned}\n",
    "\\dot{x} &= f(x, u, t) + w(t) \\\\\n",
    "y &= h(x, u, t) + r(t)\n",
    "\\end{aligned}\n",
    "$$\n",
    "\n",
    "Where:\n",
    "\n",
    "- $x \\in \\mathbb{R}^{n}$ is the **state vector**\n",
    "- $u \\in \\mathbb{R}^{p}$ is the **input vector**\n",
    "- $t \\in \\mathbb{R}^{+}$ is **time**\n",
    "- $w(t) \\in \\mathbb{R}^{n}$ is **process noise**, distributed as $w \\sim \\mathcal{N}(0, Q(t))$, where $Q(t) \\in \\mathbb{R}^{n \\times n}$ is the **process noise covariance matrix**\n",
    "\n",
    "Similarly:\n",
    "\n",
    "- $y \\in \\mathbb{R}^{m}$ is the **measurement vector**\n",
    "- $r(t) \\in \\mathbb{R}^{m}$ is **measurement noise**, distributed as $r \\sim \\mathcal{N}(0, R(t))$, where $R(t) \\in \\mathbb{R}^{m \\times m}$ is the **measurement noise covariance matrix**"
   ]
  },
  {
   "cell_type": "code",
   "execution_count": 17,
   "id": "1384e44d",
   "metadata": {},
   "outputs": [
    {
     "name": "stdout",
     "output_type": "stream",
     "text": [
      "safeio: <pykal_core.utils.system.safeio.SafeIO object at 0x717f58e2d880>\n",
      "_state_names: ['x0', 'x1']\n",
      "_measurement_names: ['x0_meas', 'x1_meas']\n",
      "_system_type: cti\n",
      "_f: <function System.f_zero at 0x717fc0171e40>\n",
      "_h: <function System.h_identity at 0x717f5ec95a80>\n",
      "_Q: <function System.make_Q.<locals>.Q at 0x717f589b1260>\n",
      "_R: <function System.make_R.<locals>.R at 0x717f589b0b80>\n"
     ]
    }
   ],
   "source": [
    "from pykal_core.control_system import System\n",
    "\n",
    "sys = System(state_names=[\"x0\",\"x1\"]) # state names are the only required argument for the constructor\n",
    "\n",
    "for key, value in sys.__dict__.items():\n",
    "    print(f\"{key}: {value}\")"
   ]
  },
  {
   "cell_type": "markdown",
   "id": "bec2dd34",
   "metadata": {},
   "source": [
    "Note that the `sys` object is initialized with several attributes if they are not passed explicity by the constructor (the `System.safeio` attribute is an instance of a utility class called `SafeIO` and is discussed here [link]). The default values of each attribute is described briefly in the \"System Attributes\" subsection. "
   ]
  },
  {
   "cell_type": "markdown",
   "id": "a1021ea2",
   "metadata": {},
   "source": [
    "#### Attributes"
   ]
  },
  {
   "cell_type": "markdown",
   "id": "b070d7c0",
   "metadata": {},
   "source": [
    "`sys.measurement_names` are the default measurement names, which are are just '_meas' appended to each state name"
   ]
  },
  {
   "cell_type": "code",
   "execution_count": 18,
   "id": "abb2d52c",
   "metadata": {},
   "outputs": [
    {
     "data": {
      "text/plain": [
       "['x0_meas', 'x1_meas']"
      ]
     },
     "execution_count": 18,
     "metadata": {},
     "output_type": "execute_result"
    }
   ],
   "source": [
    "sys.measurement_names"
   ]
  },
  {
   "cell_type": "markdown",
   "id": "bde3733e",
   "metadata": {},
   "source": [
    "`sys.system_type` is the time structure of the dynamical system (default is \"cti\", or \"continuous time-invariant\")"
   ]
  },
  {
   "cell_type": "code",
   "execution_count": 19,
   "id": "6a5e29a8",
   "metadata": {},
   "outputs": [
    {
     "data": {
      "text/plain": [
       "{'cti', 'ctv', 'dti', 'dtv'}"
      ]
     },
     "execution_count": 19,
     "metadata": {},
     "output_type": "execute_result"
    }
   ],
   "source": [
    "sys.system_types # all available system time structures for sys"
   ]
  },
  {
   "cell_type": "markdown",
   "id": "7a29adf1",
   "metadata": {},
   "source": [
    "`System.f_zero` is the function $f(x,u,t) = 0$, that is, our plant has zero dynamics and does not change over time."
   ]
  },
  {
   "cell_type": "code",
   "execution_count": 20,
   "id": "c49d59e6",
   "metadata": {},
   "outputs": [
    {
     "data": {
      "text/plain": [
       "array([[0.],\n",
       "       [0.]])"
      ]
     },
     "execution_count": 20,
     "metadata": {},
     "output_type": "execute_result"
    }
   ],
   "source": [
    "import numpy as np\n",
    "xk = np.array([[1.0], [0.0]])\n",
    "sys.f(xk)"
   ]
  },
  {
   "cell_type": "markdown",
   "id": "4dc1168b",
   "metadata": {},
   "source": [
    "`System.h_identity` is the function $h(x,u,t)=x$ ie the measurements are simply the state."
   ]
  },
  {
   "cell_type": "code",
   "execution_count": 21,
   "id": "a177f488",
   "metadata": {},
   "outputs": [
    {
     "data": {
      "text/plain": [
       "array([[1.],\n",
       "       [0.]])"
      ]
     },
     "execution_count": 21,
     "metadata": {},
     "output_type": "execute_result"
    }
   ],
   "source": [
    "xk = np.array([[1.0], [0.0]])\n",
    "sys.h(xk)"
   ]
  },
  {
   "cell_type": "markdown",
   "id": "24427fc2",
   "metadata": {},
   "source": [
    "`System.make_Q.<locals>.Q` is the process noise covariance $Q$ created by a factory function `System.make_Q`. The default $Q$ returns an identity matrix with noise $0.01$ on the diagonals.    "
   ]
  },
  {
   "cell_type": "code",
   "execution_count": 22,
   "id": "19e46743",
   "metadata": {},
   "outputs": [
    {
     "data": {
      "text/plain": [
       "array([[0.01, 0.  ],\n",
       "       [0.  , 0.01]])"
      ]
     },
     "execution_count": 22,
     "metadata": {},
     "output_type": "execute_result"
    }
   ],
   "source": [
    "sys.Q()"
   ]
  },
  {
   "cell_type": "markdown",
   "id": "d99d9cda",
   "metadata": {},
   "source": [
    "`System.make_R.<locals>.R` is the measurement noise covariance $R$ created by a factory function `System.make_R`. The default $R$ returns an identity matrix with noise $0.01$ on the diagonals."
   ]
  },
  {
   "cell_type": "code",
   "execution_count": 23,
   "id": "6301f578",
   "metadata": {},
   "outputs": [
    {
     "data": {
      "text/plain": [
       "array([[0.01, 0.  ],\n",
       "       [0.  , 0.01]])"
      ]
     },
     "execution_count": 23,
     "metadata": {},
     "output_type": "execute_result"
    }
   ],
   "source": [
    "sys.R()"
   ]
  },
  {
   "cell_type": "markdown",
   "id": "dbf0e1d8",
   "metadata": {},
   "source": [
    "#### Usage"
   ]
  },
  {
   "cell_type": "markdown",
   "id": "294a21e9",
   "metadata": {},
   "source": [
    "### Observer"
   ]
  },
  {
   "cell_type": "markdown",
   "id": "57cfddf8",
   "metadata": {},
   "source": [
    "   <div style=\"display: flex; align-items: center; justify-content: space-between; gap: 2em; margin-top: 1em; margin-bottom: 1em;\">\n",
    "     <img src=\"../../_static/system_input_observer_block_diagram.svg\" alt=\"System Observer Controller Block Diagram\" style=\"width: 100%;\">\n",
    "   </div>"
   ]
  },
  {
   "cell_type": "markdown",
   "id": "9887b086",
   "metadata": {},
   "source": [
    "Recall that the observer of a dynamical system is given by:\n",
    "\n",
    "$$\n",
    "\\hat{x} = L(u,y)\n",
    "$$\n",
    "\n",
    "Where:\n",
    "- $\\hat{x} \\in \\mathbb{R}^{n}$ is the **estimated state vector**\n",
    "- $y \\in \\mathbb{R}^{m}$ is the **measurement vector**\n",
    "- $u \\in \\mathbb{R}^{p}$ is the **input vector**\n",
    "\n",
    "Note that there is only one function that define the behavior of the observer: $L$. But this is high-level, often complexity comes in the functions composing L. For example, the kalman filter only requires y and u as active inputs, but is initialized with ..., and internal stuff."
   ]
  },
  {
   "cell_type": "markdown",
   "id": "ebdc320b",
   "metadata": {},
   "source": [
    "   <div style=\"display: flex; align-items: center; justify-content: space-between; gap: 2em; margin-top: 1em; margin-bottom: 1em;\">\n",
    "     <img src=\"../../_static/observer_kf.svg\" alt=\"Observer kf  Diagram\" style=\"width: 50%;\">\n",
    "   </div>"
   ]
  },
  {
   "cell_type": "code",
   "execution_count": 24,
   "id": "fa02276a",
   "metadata": {},
   "outputs": [
    {
     "ename": "ModuleNotFoundError",
     "evalue": "No module named 'pykal_core.control_system.observer'; 'pykal_core.control_system' is not a package",
     "output_type": "error",
     "traceback": [
      "\u001b[31m---------------------------------------------------------------------------\u001b[39m",
      "\u001b[31mModuleNotFoundError\u001b[39m                       Traceback (most recent call last)",
      "\u001b[36mCell\u001b[39m\u001b[36m \u001b[39m\u001b[32mIn[24]\u001b[39m\u001b[32m, line 1\u001b[39m\n\u001b[32m----> \u001b[39m\u001b[32m1\u001b[39m \u001b[38;5;28;01mfrom\u001b[39;00m\u001b[38;5;250m \u001b[39m\u001b[34;01mpykal_core\u001b[39;00m\u001b[34;01m.\u001b[39;00m\u001b[34;01mcontrol_system\u001b[39;00m\u001b[34;01m.\u001b[39;00m\u001b[34;01mobserver\u001b[39;00m\u001b[38;5;250m \u001b[39m\u001b[38;5;28;01mimport\u001b[39;00m Observer\n\u001b[32m      2\u001b[39m obs = Observer(sys)\n",
      "\u001b[31mModuleNotFoundError\u001b[39m: No module named 'pykal_core.control_system.observer'; 'pykal_core.control_system' is not a package"
     ]
    }
   ],
   "source": [
    "from pykal_core.control_system.observer import Observer\n",
    "obs = Observer(sys)"
   ]
  },
  {
   "cell_type": "code",
   "execution_count": null,
   "id": "09acb4da",
   "metadata": {},
   "outputs": [
    {
     "name": "stdout",
     "output_type": "stream",
     "text": [
      "sys: <pykal_core.control_system.system.System object at 0x7b5ac8998920>\n",
      "L: None\n"
     ]
    }
   ],
   "source": [
    "for key, value in obs.__dict__.items():\n",
    "    print(f\"{key}: {value}\")"
   ]
  },
  {
   "cell_type": "code",
   "execution_count": null,
   "id": "add9e3ef",
   "metadata": {},
   "outputs": [],
   "source": [
    "from pykal_core.utils.estimators import kf\n",
    "obs.L = kf.make_L(obs,\n",
    "                  kf.predict_EKF,\n",
    "                  kf.update_EKF)"
   ]
  },
  {
   "cell_type": "code",
   "execution_count": null,
   "id": "a2896b20",
   "metadata": {},
   "outputs": [
    {
     "data": {
      "text/plain": [
       "'kf'"
      ]
     },
     "execution_count": 28,
     "metadata": {},
     "output_type": "execute_result"
    }
   ],
   "source": [
    "obs.L.__name__"
   ]
  },
  {
   "cell_type": "markdown",
   "id": "183a45f8",
   "metadata": {},
   "source": [
    "#### Attributes"
   ]
  },
  {
   "cell_type": "markdown",
   "id": "2ea86818",
   "metadata": {},
   "source": [
    "#### Usage"
   ]
  },
  {
   "cell_type": "markdown",
   "id": "d23cbc9f",
   "metadata": {},
   "source": [
    "For all estimators and how to use hhem, see the API reference here:"
   ]
  },
  {
   "cell_type": "markdown",
   "id": "bf03e5f4",
   "metadata": {},
   "source": [
    "### Controller"
   ]
  },
  {
   "cell_type": "markdown",
   "id": "14668baf",
   "metadata": {
    "vscode": {
     "languageId": "html"
    }
   },
   "source": [
    "   <div style=\"display: flex; align-items: center; justify-content: space-between; gap: 2em; margin-top: 1em; margin-bottom: 1em;\">\n",
    "     <img src=\"../../_static/system_input_observer_controller_block_diagram.svg\" alt=\"System Observer Controller Block Diagram\" style=\"width: 100%;\">\n",
    "   </div>"
   ]
  },
  {
   "cell_type": "markdown",
   "id": "79b6067c",
   "metadata": {},
   "source": [
    "#### Attributes"
   ]
  },
  {
   "cell_type": "markdown",
   "id": "ac49404f",
   "metadata": {},
   "source": [
    "#### Usage"
   ]
  }
 ],
 "metadata": {
  "kernelspec": {
   "display_name": ".venv",
   "language": "python",
   "name": "python3"
  },
  "language_info": {
   "codemirror_mode": {
    "name": "ipython",
    "version": 3
   },
   "file_extension": ".py",
   "mimetype": "text/x-python",
   "name": "python",
   "nbconvert_exporter": "python",
   "pygments_lexer": "ipython3",
   "version": "3.12.3"
  }
 },
 "nbformat": 4,
 "nbformat_minor": 5
}
