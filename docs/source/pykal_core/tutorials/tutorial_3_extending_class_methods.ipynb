{
 "cells": [
  {
   "cell_type": "markdown",
   "id": "252cb9ac",
   "metadata": {},
   "source": [
    "# Extending Class Methods"
   ]
  },
  {
   "cell_type": "markdown",
   "id": "1f83b313",
   "metadata": {
    "vscode": {
     "languageId": "plaintext"
    }
   },
   "source": [
    "## Extending System Methods"
   ]
  },
  {
   "cell_type": "markdown",
   "id": "f9ee2607",
   "metadata": {},
   "source": [
    "## Extending Signal Methods"
   ]
  },
  {
   "cell_type": "markdown",
   "id": "36aadbf2",
   "metadata": {},
   "source": [
    "## Extending Observer Methods"
   ]
  },
  {
   "cell_type": "markdown",
   "id": "8b4daf87",
   "metadata": {},
   "source": [
    "## Extending Controller Methods"
   ]
  },
  {
   "cell_type": "markdown",
   "id": "db093107",
   "metadata": {},
   "source": []
  }
 ],
 "metadata": {
  "language_info": {
   "name": "python"
  }
 },
 "nbformat": 4,
 "nbformat_minor": 5
}
