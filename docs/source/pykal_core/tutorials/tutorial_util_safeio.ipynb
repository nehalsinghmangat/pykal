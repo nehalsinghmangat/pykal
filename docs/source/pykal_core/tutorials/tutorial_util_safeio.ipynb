{
 "cells": [
  {
   "cell_type": "markdown",
   "id": "e33ff036",
   "metadata": {},
   "source": [
    "#### SafeIO"
   ]
  },
  {
   "cell_type": "markdown",
   "id": "da6aec50",
   "metadata": {},
   "source": [
    "It seems that we can easily define system objects, as the previous example showed. But now we find ourselves in a subtle Pythonic pickle: what if our state dynamics only depended upon x, that is, ``f(x)`` instead of ``f(x,u,t)``? Any other classes or modules that compose System objects would expect ``System.f`` to have the arguments x, u, and t, in that order. We could simply define all functions like this, and choose not to use arguments that are not needed, but this breaks compatibability with existing tools. For instance, SciPy expects its functions in ``f(t, x)`` format, while JAX prefers ``f(x, u, t)`` or ``f(x, t)``. \n",
    "\n",
    "Furthermore, the flexibility of Python functions can be a double-edged sword. While it enables rapid prototyping, it also allows functions with inconsistent signatures, missing type annotations, ambiguous return types, or dynamic behavior that can silently break downstream logic.\n",
    "\n",
    "Consider the pendulum example with C:\n",
    "\n",
    ".. code-block:: c\n",
    "\n",
    "   // C: fixed signature, explicit memory, compiler-enforced interface\n",
    "   void dynamics(const double *x, const double *u, double t, double *x_dot_out) {\n",
    "       x_dot_out[0] = x[1];\n",
    "       x_dot_out[1] = -x[0];\n",
    "   }\n",
    "\n",
    "In C, functions must declare exactly what inputs they need and what outputs they produce.\n",
    "Return types and pointer sizes are enforced at compile time, and passing the wrong number\n",
    "of arguments or mismatched types raises immediate, traceable errors.\n",
    "\n",
    "In Python, however, the same function might look like:\n",
    "\n",
    ".. code-block:: python\n",
    "\n",
    "   def f(x, u, t):\n",
    "       return np.vstack([x[1], -x[0]])\n",
    "\n",
    "We are at the mercy of runtime users to pass in the correct values, and to have the output be correct and of the correct shape. These kinds of mismatches are notoriously difficult to trace—especially when using external libraries like TensorFlow, PyTorch, or JAX that wrap or recompile functions dynamically.\n",
    "\n",
    "Without a consistent interface, chaos creeps in. \n",
    "\n",
    "Hence, a utility class was created: ``SafeIO``.\n",
    "\n",
    "This class validates user-defined functions at the time of registration (not just runtime). It also injects only necessary arguments and any keyword argumetns as needed, and enforces that all returned values are properly typed and shaped. It does this with the smart call function."
   ]
  },
  {
   "cell_type": "code",
   "execution_count": null,
   "id": "49c49af0",
   "metadata": {},
   "outputs": [
    {
     "name": "stdout",
     "output_type": "stream",
     "text": [
      "parent: <pykal_core.control_system.system.System object at 0x7b5ac8998920>\n",
      "_aliases_for_x: ['x', 'x_k', 'xk', 'state']\n",
      "_aliases_for_u: ['u', 'u_k', 'uk', 'input']\n",
      "_aliases_for_t: ['t', 't_k', 'tk', 'time', 'tau']\n",
      "smart_call: <bound method System.SafeIO.smart_call of <pykal_core.control_system.system.System.SafeIO object at 0x7b5ac8953710>>\n"
     ]
    }
   ],
   "source": [
    "for key, value in sys.safeio.__dict__.items():\n",
    "    print(f\"{key}: {value}\")"
   ]
  },
  {
   "cell_type": "code",
   "execution_count": null,
   "id": "c6f0449c",
   "metadata": {},
   "outputs": [
    {
     "name": "stdout",
     "output_type": "stream",
     "text": [
      "TypeError: In `returns_scalar`, return type must be NDArray[...] or a tuple of NDArrays, but got <class 'float'>\n"
     ]
    }
   ],
   "source": [
    "# 1. returns_scalar – should raise TypeError\n",
    "try:\n",
    "    def returns_scalar(x: NDArray) -> float:\n",
    "        return 3.14\n",
    "\n",
    "    x = np.array([[1.0]])\n",
    "    sys.safeio.smart_call(returns_scalar, x=x)\n",
    "except TypeError as e:\n",
    "    print(f\"TypeError: {e}\")"
   ]
  },
  {
   "cell_type": "code",
   "execution_count": null,
   "id": "cfa04716",
   "metadata": {},
   "outputs": [
    {
     "name": "stdout",
     "output_type": "stream",
     "text": [
      "ValueError: Output shape mismatch. Expected (2, 1), got (1, 1)\n"
     ]
    }
   ],
   "source": [
    "# 2. wrong_output_shape – should raise ValueError\n",
    "try:\n",
    "    def wrong_output_shape(x: NDArray) -> NDArray:\n",
    "        return np.zeros((1, 1))\n",
    "\n",
    "    sys.safeio.smart_call(wrong_output_shape, x=np.zeros((2, 1)), expected_shape=(2, 1))\n",
    "except ValueError as e:\n",
    "    print(f\"ValueError: {e}\")"
   ]
  },
  {
   "cell_type": "code",
   "execution_count": null,
   "id": "80b5e8f5",
   "metadata": {},
   "outputs": [
    {
     "name": "stdout",
     "output_type": "stream",
     "text": [
      "[[1.]\n",
      " [1.]]\n"
     ]
    }
   ],
   "source": [
    "# 3. no_arguments\n",
    "def no_arguments() -> NDArray:\n",
    "    return np.ones((2, 1))\n",
    "\n",
    "print(sys.safeio.smart_call(no_arguments))"
   ]
  },
  {
   "cell_type": "code",
   "execution_count": null,
   "id": "2a00cc42",
   "metadata": {},
   "outputs": [
    {
     "name": "stdout",
     "output_type": "stream",
     "text": [
      "[[2.]\n",
      " [3.]]\n"
     ]
    }
   ],
   "source": [
    "# 4. state_only\n",
    "def state_only(x: NDArray) -> NDArray:\n",
    "    return x + 1\n",
    "\n",
    "\n",
    "x = np.array([[1.0], [2.0]])\n",
    "print(sys.safeio.smart_call(state_only, x=x))"
   ]
  },
  {
   "cell_type": "code",
   "execution_count": null,
   "id": "7f1a6346",
   "metadata": {},
   "outputs": [
    {
     "name": "stdout",
     "output_type": "stream",
     "text": [
      "[[1.]\n",
      " [2.]]\n"
     ]
    }
   ],
   "source": [
    "# 5. input_only\n",
    "def input_only(u: NDArray) -> NDArray:\n",
    "    return u * 2\n",
    "\n",
    "u = np.array([[0.5], [1.0]])\n",
    "print(sys.safeio.smart_call(input_only, u=u))"
   ]
  },
  {
   "cell_type": "code",
   "execution_count": null,
   "id": "f3dc18b3",
   "metadata": {},
   "outputs": [
    {
     "name": "stdout",
     "output_type": "stream",
     "text": [
      "[[3.]\n",
      " [3.]]\n"
     ]
    }
   ],
   "source": [
    "# 6. time_only\n",
    "def time_only(t: float) -> NDArray:\n",
    "    return np.array([[t], [t]])\n",
    "\n",
    "print(sys.safeio.smart_call(time_only, t=3.0))"
   ]
  },
  {
   "cell_type": "code",
   "execution_count": null,
   "id": "ea505bd7",
   "metadata": {},
   "outputs": [
    {
     "name": "stdout",
     "output_type": "stream",
     "text": [
      "[[1.5]\n",
      " [3. ]]\n"
     ]
    }
   ],
   "source": [
    "# 7. state_input\n",
    "def state_input(x: NDArray, u: NDArray) -> NDArray:\n",
    "    return x + u\n",
    "\n",
    "print(sys.safeio.smart_call(state_input, x=x, u=u))"
   ]
  },
  {
   "cell_type": "code",
   "execution_count": null,
   "id": "f0577f73",
   "metadata": {},
   "outputs": [
    {
     "name": "stdout",
     "output_type": "stream",
     "text": [
      "[[2.]\n",
      " [4.]]\n"
     ]
    }
   ],
   "source": [
    "# 8. state_time\n",
    "def state_time(x: NDArray, t: float) -> NDArray:\n",
    "    return x * t\n",
    "\n",
    "print(sys.safeio.smart_call(state_time, x=x, t=2.0))"
   ]
  },
  {
   "cell_type": "code",
   "execution_count": null,
   "id": "94040246",
   "metadata": {},
   "outputs": [
    {
     "name": "stdout",
     "output_type": "stream",
     "text": [
      "[[1.5]\n",
      " [2. ]]\n"
     ]
    }
   ],
   "source": [
    "# 9. input_time\n",
    "def input_time(u: NDArray, t: float) -> NDArray:\n",
    "    return u + t\n",
    "\n",
    "print(sys.safeio.smart_call(input_time, u=u, t=1.0))"
   ]
  },
  {
   "cell_type": "code",
   "execution_count": null,
   "id": "3f84d58e",
   "metadata": {},
   "outputs": [
    {
     "name": "stdout",
     "output_type": "stream",
     "text": [
      "[[2.5]\n",
      " [4. ]]\n"
     ]
    }
   ],
   "source": [
    "# 10. all_arguments\n",
    "def all_arguments(x: NDArray, u: NDArray, t: float) -> NDArray:\n",
    "    return x + u + t\n",
    "\n",
    "print(sys.safeio.smart_call(all_arguments, x=x, u=u, t=1.0))"
   ]
  },
  {
   "cell_type": "code",
   "execution_count": null,
   "id": "f3c49dc2",
   "metadata": {},
   "outputs": [
    {
     "name": "stdout",
     "output_type": "stream",
     "text": [
      "[[2.5]\n",
      " [4. ]]\n"
     ]
    }
   ],
   "source": [
    "# 11. reordered_arguments\n",
    "def reordered_arguments(t: float, u: NDArray, x: NDArray) -> NDArray:\n",
    "    return x + u + t\n",
    "\n",
    "print(sys.safeio.smart_call(reordered_arguments, x=x, u=u, t=1.0))"
   ]
  },
  {
   "cell_type": "code",
   "execution_count": null,
   "id": "a4903dcb",
   "metadata": {},
   "outputs": [
    {
     "name": "stdout",
     "output_type": "stream",
     "text": [
      "[[2.5]\n",
      " [4. ]]\n"
     ]
    }
   ],
   "source": [
    "# 12. aliased_names\n",
    "def aliased_names(state: NDArray, input: NDArray, time: float) -> NDArray:\n",
    "    return state + input + time\n",
    "\n",
    "print(sys.safeio.smart_call(aliased_names, x=x, u=u, t=1.0))"
   ]
  },
  {
   "cell_type": "code",
   "execution_count": null,
   "id": "7e76727e",
   "metadata": {},
   "outputs": [
    {
     "name": "stdout",
     "output_type": "stream",
     "text": [
      "[[2.]\n",
      " [4.]]\n"
     ]
    }
   ],
   "source": [
    "# 13. with extra keyword arguments (note that u and t are not used either)\n",
    "def just_x(x: NDArray) -> NDArray:\n",
    "    return x * 2\n",
    "\n",
    "print(sys.safeio.smart_call(just_x, x=x, u=u, t=2.0, extra_arg=3))"
   ]
  },
  {
   "cell_type": "code",
   "execution_count": null,
   "id": "b9da8adf",
   "metadata": {},
   "outputs": [
    {
     "name": "stdout",
     "output_type": "stream",
     "text": [
      "[[3.]\n",
      " [6.]]\n"
     ]
    }
   ],
   "source": [
    "def just_x_and_extra_kwarg(xk:NDArray,extra_arg:float) -> NDArray:\n",
    "    return xk * extra_arg\n",
    "\n",
    "print(sys.safeio.smart_call(just_x_and_extra_kwarg, x=x, u=u, t=2.0, extra_arg=3))"
   ]
  }
 ],
 "metadata": {
  "language_info": {
   "name": "python"
  }
 },
 "nbformat": 4,
 "nbformat_minor": 5
}
