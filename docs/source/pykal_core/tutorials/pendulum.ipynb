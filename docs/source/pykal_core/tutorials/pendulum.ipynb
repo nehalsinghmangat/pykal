{
 "cells": [
  {
   "cell_type": "markdown",
   "id": "63d3a642",
   "metadata": {},
   "source": [
    "# Dynamical Systems"
   ]
  },
  {
   "cell_type": "markdown",
   "id": "3922ac4a",
   "metadata": {},
   "source": [
    "Dynamical Systems\n",
    "^^^^^^^^^^^^^^^^^\n",
    "Recall that the state-space model of a continuous-time dynamical system is given by:\n",
    "\n",
    ".. math::\n",
    "\n",
    "   \\begin{aligned}\n",
    "   \\dot{x} &= f(x, u, t) + w(t) \\\\\n",
    "   y &= h(x, u, t) + r(t)\n",
    "   \\end{aligned}\n",
    "\n",
    "where :math:`x \\in \\mathbb{R}^{n}` is the **state vector**, :math:`u \\in \\mathbb{R}^{p}` is the **input vector**, :math:`t \\in \\mathbb{R}^{+}` is **time**, and :math:`w` is a random variable referred to as **process noise** with :math:`w(t) \\in \\mathbb{R}^{n}` distributed as :math:`w \\sim \\mathcal{N}(0, Q(t))`, where :math:`Q(t) \\in \\mathcal{M}_{n}(\\mathbb{R})` is the positive semidefinite **process noise covariance matrix**.\n",
    "\n",
    "Similarly, :math:`y \\in \\mathbb{R}^{m}` is the **measurement vector**, and :math:`r` is a random variable referred to as **measurement noise** with :math:`r(t) \\in \\mathbb{R}^{m}` distributed as :math:`r \\sim \\mathcal{N}(0, R(t))`, where :math:`R(t) \\in \\mathcal{M}_{m}(\\mathbb{R})` is the positive semidefinite **measurement noise covariance matrix**.\n",
    "\n",
    "Note that the pertinent parts of the equation are the functions f, h, w and r. The System class in pykal uses this abstraction  and binds related functions into a given system object. We define a basic system object below. System requires that you initialize it with some initial state names. Everything else has a default. "
   ]
  },
  {
   "cell_type": "markdown",
   "id": "f9f3fb61",
   "metadata": {},
   "source": [
    "# Signals"
   ]
  },
  {
   "cell_type": "markdown",
   "id": "912e4885",
   "metadata": {},
   "source": [
    "# Composing Signals"
   ]
  },
  {
   "cell_type": "markdown",
   "id": "c2b48bc9",
   "metadata": {},
   "source": [
    "# Observers"
   ]
  },
  {
   "cell_type": "code",
   "execution_count": null,
   "id": "2ce02412",
   "metadata": {},
   "outputs": [],
   "source": []
  },
  {
   "cell_type": "code",
   "execution_count": null,
   "id": "7769a651",
   "metadata": {},
   "outputs": [],
   "source": []
  }
 ],
 "metadata": {
  "kernelspec": {
   "display_name": ".venv",
   "language": "python",
   "name": "python3"
  },
  "language_info": {
   "name": "python",
   "version": "3.12.3"
  }
 },
 "nbformat": 4,
 "nbformat_minor": 5
}
