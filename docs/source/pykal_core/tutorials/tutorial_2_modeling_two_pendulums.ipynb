{
 "cells": [
  {
   "cell_type": "markdown",
   "id": "937ee41a",
   "metadata": {},
   "source": [
    "# Tutorial 2: Modeling Two Pendulums:"
   ]
  },
  {
   "cell_type": "markdown",
   "id": "eda9c8c9",
   "metadata": {},
   "source": [
    "## Defining Two Dynamical Systems"
   ]
  },
  {
   "cell_type": "markdown",
   "id": "923061f7",
   "metadata": {},
   "source": [
    "## Defining Two Signals"
   ]
  },
  {
   "cell_type": "markdown",
   "id": "b2bfbd4b",
   "metadata": {},
   "source": [
    "## Defining Two Observers"
   ]
  },
  {
   "cell_type": "markdown",
   "id": "044dab04",
   "metadata": {},
   "source": [
    "## Defining Two Controllers"
   ]
  }
 ],
 "metadata": {
  "language_info": {
   "name": "python"
  }
 },
 "nbformat": 4,
 "nbformat_minor": 5
}
